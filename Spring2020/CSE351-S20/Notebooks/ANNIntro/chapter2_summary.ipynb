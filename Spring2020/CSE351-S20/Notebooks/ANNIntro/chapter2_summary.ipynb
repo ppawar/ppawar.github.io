{
 "cells": [
  {
   "cell_type": "code",
   "execution_count": 1,
   "metadata": {},
   "outputs": [],
   "source": [
    "#importing the packages\n",
    "import tensorflow.compat.v1 as tf\n",
    "tf.compat.v1.disable_eager_execution()\n",
    "sess= tf.Session()"
   ]
  },
  {
   "cell_type": "code",
   "execution_count": 2,
   "metadata": {},
   "outputs": [
    {
     "name": "stdout",
     "output_type": "stream",
     "text": [
      "WARNING:tensorflow:From C:\\ProgramData\\Anaconda3\\lib\\site-packages\\tensorflow_core\\python\\ops\\resource_variable_ops.py:1635: calling BaseResourceVariable.__init__ (from tensorflow.python.ops.resource_variable_ops) with constraint is deprecated and will be removed in a future version.\n",
      "Instructions for updating:\n",
      "If using Keras pass *_constraint arguments to layers.\n"
     ]
    }
   ],
   "source": [
    "#Creating a new Graph(not default)\n",
    "myGraph=tf.Graph()\n",
    "with myGraph.as_default():\n",
    "    variable=tf.Variable(30,name='navin')\n",
    "    initialize=tf.global_variables_initializer()    "
   ]
  },
  {
   "cell_type": "code",
   "execution_count": 3,
   "metadata": {},
   "outputs": [
    {
     "name": "stdout",
     "output_type": "stream",
     "text": [
      "30\n"
     ]
    }
   ],
   "source": [
    "#Running computation in session in graph\n",
    "with tf.Session(graph=myGraph) as sess:\n",
    "             sess.run(initialize)\n",
    "             print(sess.run(variable))"
   ]
  },
  {
   "cell_type": "code",
   "execution_count": 4,
   "metadata": {},
   "outputs": [
    {
     "name": "stdout",
     "output_type": "stream",
     "text": [
      "12.0\n"
     ]
    }
   ],
   "source": [
    "x = tf.constant(12,dtype= 'float32')\n",
    "sess= tf.Session()\n",
    "print(sess.run(x))"
   ]
  },
  {
   "cell_type": "code",
   "execution_count": 5,
   "metadata": {},
   "outputs": [
    {
     "name": "stdout",
     "output_type": "stream",
     "text": [
      "12.0\n"
     ]
    }
   ],
   "source": [
    "x = tf.constant(12, dtype= 'float32')\n",
    "with tf.Session() as sess:\n",
    "    print(sess.run(x))"
   ]
  },
  {
   "cell_type": "code",
   "execution_count": 6,
   "metadata": {},
   "outputs": [
    {
     "name": "stdout",
     "output_type": "stream",
     "text": [
      "23.0\n"
     ]
    }
   ],
   "source": [
    "x = tf.constant(12, dtype= 'float32') \n",
    "y = tf.Variable(x + 11)\n",
    "model = tf.global_variables_initializer()\n",
    "with tf.Session() as sess:\n",
    "    sess.run(model)\n",
    "    print(sess.run(y))"
   ]
  },
  {
   "cell_type": "code",
   "execution_count": 7,
   "metadata": {},
   "outputs": [
    {
     "name": "stdout",
     "output_type": "stream",
     "text": [
      "[128 146 180 160]\n"
     ]
    }
   ],
   "source": [
    "x = tf.constant([14, 23, 40, 30])\n",
    "y = tf.Variable(x*2 + 100)\n",
    "model = tf.global_variables_initializer()\n",
    "with tf.Session() as sess:\n",
    "    sess.run(model)\n",
    "    print(sess.run(y))"
   ]
  },
  {
   "cell_type": "code",
   "execution_count": 8,
   "metadata": {},
   "outputs": [
    {
     "name": "stdout",
     "output_type": "stream",
     "text": [
      "[500. 550. 650. 750.]\n"
     ]
    }
   ],
   "source": [
    "#Placeholder is a variable that we can feed data to at a later time\n",
    "x = tf.placeholder(\"float\", None)\n",
    "y = x * 10 + 500\n",
    "with tf.Session() as sess:\n",
    "    placeX = sess.run(y, feed_dict={x: [0, 5, 15, 25]})\n",
    "    print(placeX)"
   ]
  },
  {
   "cell_type": "code",
   "execution_count": 9,
   "metadata": {},
   "outputs": [
    {
     "name": "stdout",
     "output_type": "stream",
     "text": [
      "[[121.  21.   1. -19.]\n",
      " [141.  41.  11.   1.]]\n"
     ]
    }
   ],
   "source": [
    "x = tf.placeholder(\"float\", [None, 4])\n",
    "y = x * 10 + 1\n",
    "with tf.Session() as session:\n",
    "    dataX = [[12, 2, 0, -2],\n",
    "              [14, 4, 1, 0],]\n",
    "    placeX = session.run(y, feed_dict={x: dataX})\n",
    "    print(placeX)"
   ]
  },
  {
   "cell_type": "code",
   "execution_count": 10,
   "metadata": {},
   "outputs": [
    {
     "name": "stdout",
     "output_type": "stream",
     "text": [
      "[[121.  21.   1. -19.]\n",
      " [141.  41.  11.   1.]]\n"
     ]
    }
   ],
   "source": [
    "x = tf.placeholder(\"float\", [2, 4])\n",
    "y = x * 10 + 1\n",
    "with tf.Session() as session:\n",
    "    dataX = [[12, 2, 0, -2],\n",
    "              [14, 4, 1, 0],]\n",
    "    placeX = session.run(y, feed_dict={x: dataX})\n",
    "    print(placeX)"
   ]
  },
  {
   "cell_type": "code",
   "execution_count": 11,
   "metadata": {},
   "outputs": [
    {
     "name": "stdout",
     "output_type": "stream",
     "text": [
      "[[121.  21.   1. -19.]\n",
      " [141.  41.  11.   1.]]\n"
     ]
    }
   ],
   "source": [
    "x = tf.placeholder(\"float\", [2, 4])\n",
    "y = x * 10 + 1\n",
    "with tf.Session() as session:\n",
    "    dataX = [[12, 2, 0, -2],\n",
    "              [14, 4, 1, 0],]\n",
    "    placeX = session.run(y, feed_dict={x: dataX})\n",
    "    print(placeX)"
   ]
  },
  {
   "cell_type": "code",
   "execution_count": 13,
   "metadata": {},
   "outputs": [
    {
     "name": "stdout",
     "output_type": "stream",
     "text": [
      "[745 336   3]\n"
     ]
    },
    {
     "name": "stderr",
     "output_type": "stream",
     "text": [
      "C:\\ProgramData\\Anaconda3\\lib\\site-packages\\tensorflow_core\\python\\client\\session.py:1752: UserWarning: An interactive session is already active. This can cause out-of-memory errors in some cases. You must explicitly call `InteractiveSession.close()` to release resources held by the other session(s).\n",
      "  warnings.warn('An interactive session is already active. This can '\n"
     ]
    }
   ],
   "source": [
    "#Creating tensor\n",
    "import numpy as np\n",
    "image=tf.image.decode_jpeg(tf.read_file('Tiger_1.jpg'))\n",
    "sess=tf.InteractiveSession()\n",
    "print(sess.run(tf.shape(image)))"
   ]
  },
  {
   "cell_type": "code",
   "execution_count": 19,
   "metadata": {},
   "outputs": [
    {
     "name": "stdout",
     "output_type": "stream",
     "text": [
      "[[218 160 119 114]\n",
      " [218 160 118 113]\n",
      " [220 161 116 110]\n",
      " [221 161 116 109]\n",
      " [221 162 119 114]]\n"
     ]
    }
   ],
   "source": [
    "print(sess.run(image[10:15,0:4,1]))"
   ]
  },
  {
   "cell_type": "code",
   "execution_count": 21,
   "metadata": {},
   "outputs": [
    {
     "name": "stdout",
     "output_type": "stream",
     "text": [
      "[[0. 0. 0.]\n",
      " [0. 0. 0.]]\n"
     ]
    }
   ],
   "source": [
    "#Fixed Tensors\n",
    "sess=tf.Session()\n",
    "A=tf.zeros([2,3])\n",
    "print(sess.run(A))"
   ]
  },
  {
   "cell_type": "code",
   "execution_count": 22,
   "metadata": {},
   "outputs": [
    {
     "name": "stdout",
     "output_type": "stream",
     "text": [
      "[[1. 1. 1.]\n",
      " [1. 1. 1.]\n",
      " [1. 1. 1.]\n",
      " [1. 1. 1.]]\n"
     ]
    }
   ],
   "source": [
    "#Declare another variable\n",
    "B=tf.ones([4,3])\n",
    "print(sess.run(B))"
   ]
  },
  {
   "cell_type": "code",
   "execution_count": 23,
   "metadata": {},
   "outputs": [
    {
     "name": "stdout",
     "output_type": "stream",
     "text": [
      "[[13 13 13]\n",
      " [13 13 13]]\n"
     ]
    }
   ],
   "source": [
    "C=tf.fill([2,3],13)\n",
    "print(sess.run(C))"
   ]
  },
  {
   "cell_type": "code",
   "execution_count": 24,
   "metadata": {},
   "outputs": [
    {
     "name": "stdout",
     "output_type": "stream",
     "text": [
      "[[ 4  0  0]\n",
      " [ 0 -3  0]\n",
      " [ 0  0  2]]\n"
     ]
    }
   ],
   "source": [
    "D=tf.diag([4,-3,2])\n",
    "print(sess.run(D))"
   ]
  },
  {
   "cell_type": "code",
   "execution_count": 25,
   "metadata": {},
   "outputs": [
    {
     "name": "stdout",
     "output_type": "stream",
     "text": [
      "[4 2 3 1]\n"
     ]
    }
   ],
   "source": [
    "E=tf.constant([4,2,3,1])\n",
    "print(sess.run(E))"
   ]
  },
  {
   "cell_type": "code",
   "execution_count": 28,
   "metadata": {
    "collapsed": true
   },
   "outputs": [],
   "source": [
    "#Sequence tensor"
   ]
  },
  {
   "cell_type": "code",
   "execution_count": 26,
   "metadata": {},
   "outputs": [
    {
     "name": "stdout",
     "output_type": "stream",
     "text": [
      "[ 6  9 12 15 18 21 24 27 30 33 36 39 42]\n"
     ]
    }
   ],
   "source": [
    "G=tf.range(start=6,limit=45,delta=3)\n",
    "print(sess.run(G))"
   ]
  },
  {
   "cell_type": "code",
   "execution_count": 27,
   "metadata": {},
   "outputs": [
    {
     "name": "stdout",
     "output_type": "stream",
     "text": [
      "[10.  30.5 51.  71.5 92. ]\n"
     ]
    }
   ],
   "source": [
    "H=tf.linspace(10.0,92.0,5) #creates sequence of evenly spaced value\n",
    "print(sess.run(H))"
   ]
  },
  {
   "cell_type": "code",
   "execution_count": 31,
   "metadata": {
    "collapsed": true
   },
   "outputs": [],
   "source": [
    "#Random Tensor"
   ]
  },
  {
   "cell_type": "code",
   "execution_count": 28,
   "metadata": {},
   "outputs": [
    {
     "name": "stdout",
     "output_type": "stream",
     "text": [
      "[[2.5541296  1.5269313  1.540369  ]\n",
      " [0.94328165 0.47364473 2.9980817 ]]\n"
     ]
    }
   ],
   "source": [
    "R1=tf.random_uniform([2,3],minval=0,maxval=4)\n",
    "print(sess.run(R1))"
   ]
  },
  {
   "cell_type": "code",
   "execution_count": 33,
   "metadata": {},
   "outputs": [
    {
     "name": "stdout",
     "output_type": "stream",
     "text": [
      "[[ 4.92087889  7.51223087  9.2412281 ]\n",
      " [ 6.65636778  0.94417238  8.15496731]]\n"
     ]
    }
   ],
   "source": [
    "R2=tf.random_normal([2,3],mean=5,stddev=4)\n",
    "print(sess.run(R2))"
   ]
  },
  {
   "cell_type": "code",
   "execution_count": 29,
   "metadata": {},
   "outputs": [
    {
     "name": "stdout",
     "output_type": "stream",
     "text": [
      "[[ 0 -2  0]\n",
      " [ 0  0  4]\n",
      " [ 3  0  0]]\n"
     ]
    }
   ],
   "source": [
    "R3=tf.random_shuffle(tf.diag([3,-2,4]))\n",
    "print(sess.run(R3))"
   ]
  },
  {
   "cell_type": "code",
   "execution_count": 30,
   "metadata": {},
   "outputs": [
    {
     "name": "stdout",
     "output_type": "stream",
     "text": [
      "[[ 3  0]\n",
      " [ 0 -2]\n",
      " [ 0  0]]\n"
     ]
    }
   ],
   "source": [
    "R4=tf.random_crop(tf.diag([3,-2,4]),[3,2])\n",
    "print(sess.run(R4))"
   ]
  },
  {
   "cell_type": "code",
   "execution_count": 31,
   "metadata": {},
   "outputs": [
    {
     "name": "stdout",
     "output_type": "stream",
     "text": [
      "[[ 3  0  0]\n",
      " [ 0 -2  0]\n",
      " [ 0  0  4]]\n"
     ]
    }
   ],
   "source": [
    "print(sess.run(tf.diag([3,-2,4])))"
   ]
  },
  {
   "cell_type": "code",
   "execution_count": 32,
   "metadata": {},
   "outputs": [
    {
     "name": "stdout",
     "output_type": "stream",
     "text": [
      "[[0. 0. 0. 0.]\n",
      " [0. 0. 0. 0.]]\n"
     ]
    }
   ],
   "source": [
    "print(sess.run(tf.zeros([2,4])))"
   ]
  },
  {
   "cell_type": "code",
   "execution_count": 33,
   "metadata": {},
   "outputs": [
    {
     "name": "stdout",
     "output_type": "stream",
     "text": [
      "[[ 3  0  0  0]\n",
      " [ 0  1  0  0]\n",
      " [ 0  0  5  0]\n",
      " [ 0  0  0 -2]]\n"
     ]
    }
   ],
   "source": [
    "print(sess.run(tf.diag([3,1,5,-2])))"
   ]
  },
  {
   "cell_type": "code",
   "execution_count": 37,
   "metadata": {},
   "outputs": [
    {
     "name": "stdout",
     "output_type": "stream",
     "text": [
      "[ 4  6  8 10 12 14]\n"
     ]
    }
   ],
   "source": [
    "print(sess.run(tf.range(start=4, limit=16, delta=2)))"
   ]
  },
  {
   "cell_type": "code",
   "execution_count": 40,
   "metadata": {
    "collapsed": true
   },
   "outputs": [],
   "source": [
    "#12"
   ]
  },
  {
   "cell_type": "code",
   "execution_count": 41,
   "metadata": {
    "collapsed": true
   },
   "outputs": [],
   "source": [
    "#Working with matrices"
   ]
  },
  {
   "cell_type": "code",
   "execution_count": 39,
   "metadata": {},
   "outputs": [],
   "source": [
    "import tensorflow.compat.v1 as tf\n",
    "import numpy as np\n",
    "sess=tf.Session()\n",
    "A=tf.random_uniform([3,2])\n",
    "B=tf.fill([2,4],3.5)\n",
    "C=tf.random_uniform([3,4])"
   ]
  },
  {
   "cell_type": "code",
   "execution_count": 40,
   "metadata": {},
   "outputs": [
    {
     "name": "stdout",
     "output_type": "stream",
     "text": [
      "[[0.46633458 0.9366181 ]\n",
      " [0.04441679 0.42088854]\n",
      " [0.53994775 0.8757559 ]]\n"
     ]
    }
   ],
   "source": [
    "print(sess.run(A))"
   ]
  },
  {
   "cell_type": "code",
   "execution_count": 41,
   "metadata": {},
   "outputs": [
    {
     "name": "stdout",
     "output_type": "stream",
     "text": [
      "[[3.5 3.5 3.5 3.5]\n",
      " [3.5 3.5 3.5 3.5]]\n"
     ]
    }
   ],
   "source": [
    "print(sess.run(B))"
   ]
  },
  {
   "cell_type": "code",
   "execution_count": 42,
   "metadata": {},
   "outputs": [
    {
     "name": "stdout",
     "output_type": "stream",
     "text": [
      "[[3.0879946 3.0879946 3.0879946 3.0879946]\n",
      " [4.287131  4.287131  4.287131  4.287131 ]\n",
      " [1.4951131 1.4951131 1.4951131 1.4951131]]\n"
     ]
    }
   ],
   "source": [
    "print(sess.run(tf.matmul(A,B)))    # Matrix multiplication"
   ]
  },
  {
   "cell_type": "code",
   "execution_count": 43,
   "metadata": {},
   "outputs": [
    {
     "name": "stdout",
     "output_type": "stream",
     "text": [
      "[[6.134966  5.951398  6.2283883 5.9512043]\n",
      " [2.2659597 2.4756415 2.9510677 3.1385527]\n",
      " [3.6609702 3.6437068 3.9271376 3.305163 ]]\n"
     ]
    }
   ],
   "source": [
    "print(sess.run(tf.matmul(A,B)+C))    #Multiplication and addition"
   ]
  },
  {
   "cell_type": "code",
   "execution_count": 47,
   "metadata": {
    "collapsed": true
   },
   "outputs": [],
   "source": [
    "#Activation function"
   ]
  },
  {
   "cell_type": "code",
   "execution_count": 44,
   "metadata": {},
   "outputs": [
    {
     "name": "stdout",
     "output_type": "stream",
     "text": [
      "[ 1.          0.9640276   0.46211717 -0.46211717 -0.7615942  -0.9640276\n",
      " -1.        ]\n"
     ]
    }
   ],
   "source": [
    "#working on tanh function\n",
    "E=tf.nn.tanh([10,2,0.5,-0.5,-1.0,-2,-10.0])\n",
    "print(sess.run(E))"
   ]
  },
  {
   "cell_type": "code",
   "execution_count": 45,
   "metadata": {},
   "outputs": [
    {
     "name": "stdout",
     "output_type": "stream",
     "text": [
      "[9.9995458e-01 8.8079703e-01 6.2245935e-01 3.7754068e-01 2.6894143e-01\n",
      " 1.1920292e-01 4.5397872e-05]\n"
     ]
    }
   ],
   "source": [
    "#sigmoid function\n",
    "J=tf.nn.sigmoid([10,2,0.5,-0.5,-1.0,-2,-10.0])\n",
    "print(sess.run(J))"
   ]
  },
  {
   "cell_type": "code",
   "execution_count": 46,
   "metadata": {},
   "outputs": [
    {
     "name": "stdout",
     "output_type": "stream",
     "text": [
      "[-2  1 -3 13]\n",
      "\n",
      "\n",
      "\n",
      "[ 0  1  0 13]\n"
     ]
    }
   ],
   "source": [
    "sess=tf.Session()\n",
    "print(sess.run(tf.constant([-2,1,-3,13])))\n",
    "print('\\n\\n')\n",
    "A=tf.nn.relu([-2,1,-3,13])\n",
    "print(sess.run(A))"
   ]
  },
  {
   "cell_type": "code",
   "execution_count": 47,
   "metadata": {},
   "outputs": [
    {
     "name": "stdout",
     "output_type": "stream",
     "text": [
      "[-2  1 -3 13]\n",
      "\n",
      "\n",
      "\n",
      "[0 1 0 6]\n"
     ]
    }
   ],
   "source": [
    "sess=tf.Session()\n",
    "print(sess.run(tf.constant([-2,1,-3,13])))\n",
    "print('\\n\\n')\n",
    "A=tf.nn.relu6([-2,1,-3,13])\n",
    "print(sess.run(A))"
   ]
  },
  {
   "cell_type": "code",
   "execution_count": 48,
   "metadata": {},
   "outputs": [
    {
     "name": "stdout",
     "output_type": "stream",
     "text": [
      "[[ -2   1  -3]\n",
      " [ 10 -16  -5]]\n",
      "\n",
      "\n",
      "[[ 0  1  0]\n",
      " [10  0  0]]\n"
     ]
    }
   ],
   "source": [
    "sess=tf.Session()\n",
    "print(sess.run(tf.constant([[-2,1,-3],[10,-16,-5]])))\n",
    "print('\\n')\n",
    "C=tf.nn.relu([[-2,1,-3],[10,-16,-5]])\n",
    "print(sess.run(C))"
   ]
  },
  {
   "cell_type": "code",
   "execution_count": 49,
   "metadata": {},
   "outputs": [
    {
     "name": "stdout",
     "output_type": "stream",
     "text": [
      "[ 0  1  0 13]\n"
     ]
    }
   ],
   "source": [
    "#Relu function\n",
    "Re=tf.nn.relu([-2,1,-3,13])\n",
    "print(sess.run(Re))"
   ]
  },
  {
   "cell_type": "code",
   "execution_count": 54,
   "metadata": {},
   "outputs": [
    {
     "name": "stdout",
     "output_type": "stream",
     "text": [
      "[ 10.           2.           1.           0.5          0.          -0.39346933\n",
      "  -0.63212055  -0.86466473  -0.99995458]\n"
     ]
    }
   ],
   "source": [
    "#elu function\n",
    "H=tf.nn.elu([10,2,1,0.5,0,-0.5,-1.,-2.,-10.])\n",
    "print(sess.run(H))"
   ]
  },
  {
   "cell_type": "code",
   "execution_count": 55,
   "metadata": {},
   "outputs": [
    {
     "name": "stdout",
     "output_type": "stream",
     "text": [
      "[ 6.   2.   1.   0.5  0.   0.   0.   0.   0. ]\n"
     ]
    }
   ],
   "source": [
    "#Relu6 function\n",
    "Re6=tf.nn.relu6([10,2,1,0.5,0,-0.5,-1.,-2.,-10.])\n",
    "print(sess.run(Re6))"
   ]
  },
  {
   "cell_type": "code",
   "execution_count": 56,
   "metadata": {},
   "outputs": [
    {
     "name": "stdout",
     "output_type": "stream",
     "text": [
      "[  9.99494076e-01   3.35292920e-04   7.48139573e-05   4.53769608e-05\n",
      "   2.75225175e-05   1.66932514e-05   6.14110377e-06   2.06011097e-09]\n"
     ]
    }
   ],
   "source": [
    "#softmax function\n",
    "X=tf.nn.softmax([10,2,0.5,0,-0.5,-1.0,-2,-10.0])\n",
    "print(sess.run(X))"
   ]
  },
  {
   "cell_type": "code",
   "execution_count": 57,
   "metadata": {},
   "outputs": [
    {
     "name": "stdout",
     "output_type": "stream",
     "text": [
      "[ 0.90909094  0.66666669  0.33333334  0.         -0.33333334 -0.5\n",
      " -0.66666669 -0.90909094]\n"
     ]
    }
   ],
   "source": [
    "#softsign function\n",
    "Y=tf.nn.softsign([10,2,0.5,0,-0.5,-1.0,-2,-10.0])\n",
    "print(sess.run(Y))"
   ]
  },
  {
   "cell_type": "code",
   "execution_count": 58,
   "metadata": {},
   "outputs": [
    {
     "name": "stdout",
     "output_type": "stream",
     "text": [
      "[  1.00000458e+01   2.12692809e+00   9.74076986e-01   6.93147182e-01\n",
      "   4.74076986e-01   3.13261628e-01   1.26928046e-01   4.54177061e-05]\n"
     ]
    }
   ],
   "source": [
    "#softplus function\n",
    "Z=tf.nn.softplus([10,2,0.5,0,-0.5,-1.0,-2,-10.0])\n",
    "print(sess.run(Z))"
   ]
  },
  {
   "cell_type": "code",
   "execution_count": 59,
   "metadata": {
    "collapsed": true
   },
   "outputs": [],
   "source": [
    "import numpy as np\n",
    "sess=tf.Session()"
   ]
  },
  {
   "cell_type": "code",
   "execution_count": 56,
   "metadata": {},
   "outputs": [],
   "source": [
    "#Assuming prediction model\n",
    "pred=np.asarray([0.2,0.3,0.5,10.0,12.0,13.0,3.5,7.4,3.9,2.3])\n",
    "#convert ndarray into tensor\n",
    "x_val=tf.convert_to_tensor(pred)\n",
    "#Assuming actual values\n",
    "actual=np.asarray([0.1,0.4,0.6,9.0,11.0,12.0,3.4,7.1,3.8,2.0])"
   ]
  },
  {
   "cell_type": "code",
   "execution_count": 57,
   "metadata": {},
   "outputs": [
    {
     "name": "stdout",
     "output_type": "stream",
     "text": [
      "[0. 0. 0. 1. 1. 1. 0. 0. 0. 0.]\n"
     ]
    }
   ],
   "source": [
    "#L2 loss:L1=(pred-actual)^2\n",
    "l2=tf.square(pred-actual)\n",
    "l2_out=sess.run(tf.round(l2))\n",
    "print(l2_out)"
   ]
  },
  {
   "cell_type": "code",
   "execution_count": 58,
   "metadata": {},
   "outputs": [
    {
     "name": "stdout",
     "output_type": "stream",
     "text": [
      "[0.1 0.1 0.1 1.  1.  1.  0.1 0.3 0.1 0.3]\n"
     ]
    }
   ],
   "source": [
    "#L2 loss:L1=abs(pred-actual)\n",
    "l1=tf.abs(pred-actual)\n",
    "l1_out=sess.run(l1)\n",
    "print(l1_out)"
   ]
  },
  {
   "cell_type": "code",
   "execution_count": 59,
   "metadata": {},
   "outputs": [
    {
     "name": "stdout",
     "output_type": "stream",
     "text": [
      "[0.74439666 0.74439666 0.74439666 0.31326169 0.31326169 0.31326169\n",
      " 0.74439666 0.85435524 0.74439666 0.85435524]\n"
     ]
    }
   ],
   "source": [
    "#cross entropy loss\n",
    "softmax_xentropy_variable=tf.nn.sigmoid_cross_entropy_with_logits(logits=l1_out,labels=l2_out)\n",
    "print(sess.run(softmax_xentropy_variable))"
   ]
  },
  {
   "cell_type": "code",
   "execution_count": 51,
   "metadata": {},
   "outputs": [],
   "source": [
    "#Optimization"
   ]
  },
  {
   "cell_type": "code",
   "execution_count": 52,
   "metadata": {},
   "outputs": [],
   "source": [
    "x = tf.Variable(3, name='x', dtype=tf.float32)\n",
    "log_x = tf.log(x)\n",
    "log_x_squared = tf.square(log_x)"
   ]
  },
  {
   "cell_type": "code",
   "execution_count": 53,
   "metadata": {},
   "outputs": [],
   "source": [
    "optimizer = tf.train.GradientDescentOptimizer(0.7)\n",
    "train = optimizer.minimize(log_x_squared)"
   ]
  },
  {
   "cell_type": "code",
   "execution_count": 54,
   "metadata": {},
   "outputs": [],
   "source": [
    "init =tf.global_variables_initializer()"
   ]
  },
  {
   "cell_type": "code",
   "execution_count": 55,
   "metadata": {},
   "outputs": [
    {
     "name": "stdout",
     "output_type": "stream",
     "text": [
      "starting at x: 3.0 log(x)^2: 1.206949\n",
      "step 0 x: 2.4873142 log(x)^2: 0.8302918\n",
      "step 1 x: 1.9744377 log(x)^2: 0.46278587\n",
      "step 2 x: 1.492074 log(x)^2: 0.16013372\n",
      "step 3 x: 1.1166008 log(x)^2: 0.01216367\n",
      "step 4 x: 0.97831976 log(x)^2: 0.00048042962\n",
      "step 5 x: 1.009686 log(x)^2: 9.2917726e-05\n",
      "step 6 x: 0.9963203 log(x)^2: 1.3590131e-05\n",
      "step 7 x: 1.0015005 log(x)^2: 2.2480888e-06\n",
      "step 8 x: 0.99940455 log(x)^2: 3.5477242e-07\n",
      "step 9 x: 1.0002389 log(x)^2: 5.7057385e-08\n"
     ]
    }
   ],
   "source": [
    "#Finally running computation\n",
    "with tf.Session() as session:\n",
    "    session.run(init)\n",
    "    print(\"starting at\", \"x:\", session.run(x), \"log(x)^2:\", session.run(log_x_squared))\n",
    "    for step in range(10):  \n",
    "      session.run(train)\n",
    "      print(\"step\", step, \"x:\", session.run(x), \"log(x)^2:\", session.run(log_x_squared))    \n",
    "\n"
   ]
  },
  {
   "cell_type": "code",
   "execution_count": 60,
   "metadata": {},
   "outputs": [],
   "source": [
    "# placeholders declaration\n",
    "x=tf. placeholder(tf.int32, [5])\n",
    "y=tf. placeholder(tf.int32, [5])"
   ]
  },
  {
   "cell_type": "code",
   "execution_count": 61,
   "metadata": {},
   "outputs": [],
   "source": [
    "# Metrices declaration\n",
    "acc, acc_op=tf.metrics.accuracy(labels=x, predictions=y)"
   ]
  },
  {
   "cell_type": "code",
   "execution_count": 62,
   "metadata": {},
   "outputs": [],
   "source": [
    "#session initialization\n",
    "sess=tf.InteractiveSession()\n",
    "sess.run(tf.global_variables_initializer())\n",
    "sess.run(tf.local_variables_initializer())"
   ]
  },
  {
   "cell_type": "code",
   "execution_count": 63,
   "metadata": {},
   "outputs": [],
   "source": [
    "#value assign\n",
    "val= sess.run([acc,acc_op], feed_dict={x: [1,1,0,1,0], y: [0,1,0,0,1]})"
   ]
  },
  {
   "cell_type": "code",
   "execution_count": 64,
   "metadata": {},
   "outputs": [
    {
     "name": "stdout",
     "output_type": "stream",
     "text": [
      "0.4\n"
     ]
    }
   ],
   "source": [
    "#print Accuracy\n",
    "val_acc=sess.run(acc)\n",
    "print(val_acc)"
   ]
  },
  {
   "cell_type": "code",
   "execution_count": null,
   "metadata": {},
   "outputs": [],
   "source": []
  }
 ],
 "metadata": {
  "kernelspec": {
   "display_name": "Python 3",
   "language": "python",
   "name": "python3"
  },
  "language_info": {
   "codemirror_mode": {
    "name": "ipython",
    "version": 3
   },
   "file_extension": ".py",
   "mimetype": "text/x-python",
   "name": "python",
   "nbconvert_exporter": "python",
   "pygments_lexer": "ipython3",
   "version": "3.7.4"
  }
 },
 "nbformat": 4,
 "nbformat_minor": 2
}
