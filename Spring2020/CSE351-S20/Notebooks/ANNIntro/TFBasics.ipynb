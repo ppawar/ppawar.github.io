{
 "cells": [
  {
   "cell_type": "code",
   "execution_count": 11,
   "metadata": {},
   "outputs": [
    {
     "name": "stdout",
     "output_type": "stream",
     "text": [
      "Tensor(\"mul_2:0\", shape=(), dtype=float32)\n",
      "30.0\n"
     ]
    }
   ],
   "source": [
    "import tensorflow.compat.v1 as tf\n",
    "tf.compat.v1.disable_eager_execution()\n",
    "a = tf.constant(5.0)\n",
    "b = tf.constant(6.0)\n",
    "c = a * b\n",
    "print(c)\n",
    "\n",
    "# Launch the graph in a session.\n",
    "sess = tf.compat.v1.Session()\n",
    "\n",
    "# Evaluate the tensor `c`.\n",
    "print(sess.run(c)) # prints 30.0"
   ]
  },
  {
   "cell_type": "code",
   "execution_count": 12,
   "metadata": {},
   "outputs": [
    {
     "name": "stdout",
     "output_type": "stream",
     "text": [
      "12.0\n"
     ]
    }
   ],
   "source": [
    "x = tf.constant(12,dtype= 'float32')\n",
    "sess= tf.Session()\n",
    "print(sess.run(x))"
   ]
  },
  {
   "cell_type": "code",
   "execution_count": 13,
   "metadata": {},
   "outputs": [
    {
     "name": "stdout",
     "output_type": "stream",
     "text": [
      "WARNING:tensorflow:From C:\\ProgramData\\Anaconda3\\lib\\site-packages\\tensorflow_core\\python\\ops\\resource_variable_ops.py:1635: calling BaseResourceVariable.__init__ (from tensorflow.python.ops.resource_variable_ops) with constraint is deprecated and will be removed in a future version.\n",
      "Instructions for updating:\n",
      "If using Keras pass *_constraint arguments to layers.\n",
      "23.0\n"
     ]
    }
   ],
   "source": [
    "x = tf.constant(12, dtype= 'float32') \n",
    "y = tf.Variable(x + 11)\n",
    "model = tf.global_variables_initializer()\n",
    "with tf.Session() as sess:\n",
    "    sess.run(model)\n",
    "    print(sess.run(y))"
   ]
  },
  {
   "cell_type": "code",
   "execution_count": 14,
   "metadata": {},
   "outputs": [
    {
     "name": "stdout",
     "output_type": "stream",
     "text": [
      "[128 146 180 160]\n"
     ]
    }
   ],
   "source": [
    "x = tf.constant([14, 23, 40, 30])\n",
    "y = tf.Variable(x*2 + 100)\n",
    "model = tf.global_variables_initializer()\n",
    "with tf.Session() as sess:\n",
    "    sess.run(model)\n",
    "    print(sess.run(y))"
   ]
  },
  {
   "cell_type": "code",
   "execution_count": 15,
   "metadata": {},
   "outputs": [
    {
     "name": "stdout",
     "output_type": "stream",
     "text": [
      "[500. 550. 650. 750.]\n"
     ]
    }
   ],
   "source": [
    "#Placeholder is a variable that we can feed data to at a later time\n",
    "x = tf.placeholder(\"float\", None)\n",
    "y = x * 10 + 500\n",
    "with tf.Session() as sess:\n",
    "    placeX = sess.run(y, feed_dict={x: [0, 5, 15, 25]})\n",
    "    print(placeX)"
   ]
  },
  {
   "cell_type": "code",
   "execution_count": 16,
   "metadata": {},
   "outputs": [
    {
     "name": "stdout",
     "output_type": "stream",
     "text": [
      "[[121.  21.   1. -19.]\n",
      " [141.  41.  11.   1.]]\n"
     ]
    }
   ],
   "source": [
    "x = tf.placeholder(\"float\", [None, 4])\n",
    "y = x * 10 + 1\n",
    "with tf.Session() as session:\n",
    "    dataX = [[12, 2, 0, -2],\n",
    "              [14, 4, 1, 0],]\n",
    "    placeX = session.run(y, feed_dict={x: dataX})\n",
    "    print(placeX)"
   ]
  },
  {
   "cell_type": "code",
   "execution_count": 17,
   "metadata": {},
   "outputs": [
    {
     "name": "stdout",
     "output_type": "stream",
     "text": [
      "[[121.  21.   1. -19.]\n",
      " [141.  41.  11.   1.]]\n"
     ]
    }
   ],
   "source": [
    "x = tf.placeholder(\"float\", [2, 4])\n",
    "y = x * 10 + 1\n",
    "with tf.Session() as session:\n",
    "    dataX = [[12, 2, 0, -2],\n",
    "              [14, 4, 1, 0],]\n",
    "    placeX = session.run(y, feed_dict={x: dataX})\n",
    "    print(placeX)"
   ]
  },
  {
   "cell_type": "code",
   "execution_count": 19,
   "metadata": {},
   "outputs": [],
   "source": [
    "# Weight and Bias as Variables as they are to be tuned\n",
    "W = tf.Variable([2], dtype=tf.float32) \n",
    "b = tf.Variable([3], dtype=tf.float32)\n",
    "# Training dataset that will be fed while training\n",
    "x = tf.placeholder(tf.float32)\n",
    "# Linear Model\n",
    "linear_model = W * x + b\n"
   ]
  },
  {
   "cell_type": "code",
   "execution_count": null,
   "metadata": {
    "collapsed": true
   },
   "outputs": [],
   "source": []
  }
 ],
 "metadata": {
  "kernelspec": {
   "display_name": "Python 3",
   "language": "python",
   "name": "python3"
  },
  "language_info": {
   "codemirror_mode": {
    "name": "ipython",
    "version": 3
   },
   "file_extension": ".py",
   "mimetype": "text/x-python",
   "name": "python",
   "nbconvert_exporter": "python",
   "pygments_lexer": "ipython3",
   "version": "3.7.4"
  }
 },
 "nbformat": 4,
 "nbformat_minor": 2
}
