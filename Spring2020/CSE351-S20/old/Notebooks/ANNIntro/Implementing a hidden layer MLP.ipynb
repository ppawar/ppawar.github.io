{
 "cells": [
  {
   "cell_type": "code",
   "execution_count": 1,
   "metadata": {},
   "outputs": [],
   "source": [
    "import warnings\n",
    "warnings.simplefilter(\"ignore\")"
   ]
  },
  {
   "cell_type": "code",
   "execution_count": 6,
   "metadata": {},
   "outputs": [],
   "source": [
    "import matplotlib.pyplot as plt\n",
    "import numpy as np\n",
    "import tensorflow.compat.v1 as tf\n",
    "tf.compat.v1.disable_eager_execution()\n",
    "from sklearn import datasets\n",
    "from sklearn.model_selection import train_test_split\n",
    "from matplotlib import pyplot"
   ]
  },
  {
   "cell_type": "code",
   "execution_count": 7,
   "metadata": {},
   "outputs": [],
   "source": [
    "#1. Load Data\n",
    "iris = datasets.load_iris()\n",
    "# Predictors:  Sepal Width, Petal Length, Petal Width\n",
    "predictors_vals = np.array([predictor[1:4] for predictor in iris.data])\n",
    "#Target : Sepal Length\n",
    "target_vals = np.array([predictor[0] for predictor in iris.data])"
   ]
  },
  {
   "cell_type": "code",
   "execution_count": 8,
   "metadata": {},
   "outputs": [
    {
     "name": "stdout",
     "output_type": "stream",
     "text": [
      "WARNING:tensorflow:From C:\\ProgramData\\Anaconda3\\lib\\site-packages\\tensorflow_core\\python\\ops\\resource_variable_ops.py:1635: calling BaseResourceVariable.__init__ (from tensorflow.python.ops.resource_variable_ops) with constraint is deprecated and will be removed in a future version.\n",
      "Instructions for updating:\n",
      "If using Keras pass *_constraint arguments to layers.\n"
     ]
    }
   ],
   "source": [
    "#2. Split data into train/test = 80%/20%\n",
    "\n",
    "predictors_vals_train, predictors_vals_test, target_vals_train, target_vals_test= train_test_split(predictors_vals, target_vals, test_size=0.2, random_state=12)\n",
    "# 3. Normalize if needed\n",
    "\n",
    "# 4.Initialize placeholders that will contain predictors and target\n",
    "x_data = tf.placeholder(shape=[None, 3], dtype=tf.float32)\n",
    "y_target = tf.placeholder(shape=[None, 1], dtype=tf.float32)\n",
    "\n",
    "#5. Create variables (Weight and Bias) that will be tuned up\n",
    "hidden_layer_nodes = 10\n",
    "#For first layer\n",
    "A1 = tf.Variable(tf.ones(shape=[3,hidden_layer_nodes])) # inputs -> hidden nodes\n",
    "b1 = tf.Variable(tf.ones(shape=[hidden_layer_nodes]))   # one biases for each hidden node\n",
    "#For second layer\n",
    "A2 = tf.Variable(tf.ones(shape=[hidden_layer_nodes,1])) # hidden inputs -> 1 output\n",
    "b2 = tf.Variable(tf.ones(shape=[1]))   # 1 bias for the output\n"
   ]
  },
  {
   "cell_type": "code",
   "execution_count": 9,
   "metadata": {},
   "outputs": [],
   "source": [
    "# 6. Define Model Structure\n",
    "hidden_output = tf.nn.relu(tf.add(tf.matmul(x_data, A1), b1))\n",
    "final_output = tf.nn.relu(tf.add(tf.matmul(hidden_output, A2), b2))\n",
    "\n",
    "# 7. Declare loss function (MSE) and optimizer\n",
    "loss = tf.reduce_mean(tf.square(y_target - final_output))\n",
    "my_opt = tf.train.AdamOptimizer(0.02) # learning rate = 0.02\n",
    "train_step = my_opt.minimize(loss)\n",
    "\n",
    "# 8.Initialize variables and session\n",
    "init = tf.global_variables_initializer()\n",
    "# Create graph session \n",
    "sess = tf.Session()\n",
    "sess.run(init)"
   ]
  },
  {
   "cell_type": "code",
   "execution_count": 11,
   "metadata": {},
   "outputs": [
    {
     "name": "stdout",
     "output_type": "stream",
     "text": [
      "Loss = 77.294685\n",
      "Loss = 8.359001\n",
      "Loss = 2.3596272\n",
      "Loss = 0.8269485\n",
      "Loss = 0.56263226\n",
      "Loss = 1.1048698\n",
      "Loss = 0.5405818\n",
      "Loss = 0.50456667\n",
      "Loss = 0.67215097\n",
      "Loss = 0.37629893\n"
     ]
    }
   ],
   "source": [
    "# 9. Training loop\n",
    "lossArray = []\n",
    "test_loss = []\n",
    "batch_size =20\n",
    "for i in range(500):\n",
    "    batchIndex = np.random.choice(len(predictors_vals_train), size=batch_size)\n",
    "    batchX = predictors_vals_train[batchIndex]\n",
    "    batchY = np.transpose([target_vals_train[batchIndex]])\n",
    "    sess.run(train_step, feed_dict={x_data: batchX, y_target: batchY})\n",
    "    #\n",
    "    batchLoss = sess.run(loss, feed_dict={x_data: batchX, y_target: batchY})\n",
    "    lossArray.append(np.sqrt(batchLoss))\n",
    "    \n",
    "    test_temp_loss = sess.run(loss, feed_dict={x_data: predictors_vals_test, y_target: np.transpose([target_vals_test])})\n",
    "    test_loss.append(np.sqrt(test_temp_loss))\n",
    "    if (i+1)%50==0:\n",
    "        print('Loss = ' + str(batchLoss))\n",
    "\n",
    "\n"
   ]
  },
  {
   "cell_type": "code",
   "execution_count": 12,
   "metadata": {},
   "outputs": [
    {
     "data": {
      "image/png": "[encoded data removed]",
      "text/plain": [
       "<Figure size 432x288 with 1 Axes>"
      ]
     },
     "metadata": {
      "needs_background": "light"
     },
     "output_type": "display_data"
    }
   ],
   "source": [
    "# 10. Check model performance\n",
    "    #Plot loss(mean squared error) over time\n",
    "pyplot.plot(lossArray, 'o-', label='Train Loss')\n",
    "pyplot.plot(test_loss, 'r--', label='Test Loss')\n",
    "pyplot.title('Loss per Generation')\n",
    "pyplot.legend(loc='lower left')\n",
    "pyplot.xlabel('Generation')\n",
    "pyplot.ylabel('Loss')\n",
    "pyplot.show()\n"
   ]
  },
  {
   "cell_type": "code",
   "execution_count": null,
   "metadata": {},
   "outputs": [],
   "source": []
  }
 ],
 "metadata": {
  "kernelspec": {
   "display_name": "Python 3",
   "language": "python",
   "name": "python3"
  },
  "language_info": {
   "codemirror_mode": {
    "name": "ipython",
    "version": 3
   },
   "file_extension": ".py",
   "mimetype": "text/x-python",
   "name": "python",
   "nbconvert_exporter": "python",
   "pygments_lexer": "ipython3",
   "version": "3.7.4"
  }
 },
 "nbformat": 4,
 "nbformat_minor": 2
}
