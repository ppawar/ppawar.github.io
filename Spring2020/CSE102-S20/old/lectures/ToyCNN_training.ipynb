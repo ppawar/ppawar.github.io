{
 "cells": [
  {
   "cell_type": "code",
   "execution_count": 1,
   "metadata": {},
   "outputs": [
    {
     "name": "stderr",
     "output_type": "stream",
     "text": [
      "Using TensorFlow backend.\n"
     ]
    }
   ],
   "source": [
    "import os\n",
    "import keras\n",
    "import six\n",
    "import math\n",
    "import numpy as np\n",
    "\n",
    "from keras.models import Model\n",
    "from keras.layers import Input\n",
    "from keras.layers import Activation\n",
    "from keras.layers import Reshape\n",
    "from keras.layers import Dense\n",
    "from keras.layers import Flatten\n",
    "from keras.layers import Conv2D\n",
    "from keras.layers import MaxPooling2D\n",
    "from keras.layers import AveragePooling2D\n",
    "from keras.layers.pooling import GlobalAveragePooling2D\n",
    "from keras.layers import GlobalMaxPooling2D\n",
    "from keras.layers import GlobalAveragePooling2D\n",
    "from keras.layers import Dropout\n",
    "from keras.layers.merge import add\n",
    "from keras.layers.normalization import BatchNormalization\n",
    "from keras.regularizers import l2\n",
    "from keras import backend as K\n",
    "from keras_applications.imagenet_utils import _obtain_input_shape\n",
    "from keras.preprocessing.image import ImageDataGenerator\n",
    "from keras.models import Model, Sequential\n",
    "from keras.callbacks import ModelCheckpoint\n",
    "from keras.callbacks import ReduceLROnPlateau, EarlyStopping\n",
    "from keras import optimizers\n",
    "from keras.regularizers import l2\n",
    "from keras.callbacks import LearningRateScheduler\n",
    "\n",
    "from matplotlib import pyplot\n",
    "import csv\n",
    "from keras.callbacks import CSVLogger\n",
    "from keras.models import load_model\n"
   ]
  },
  {
   "cell_type": "code",
   "execution_count": 2,
   "metadata": {},
   "outputs": [],
   "source": [
    "#parameters\n",
    "img_size =224\n",
    "batch_size = 1\n",
    "n_classes=4\n",
    "\n",
    "epochCount = 50\n",
    "augmentationScale = 1\n",
    "learningRate = 0.0001"
   ]
  },
  {
   "cell_type": "code",
   "execution_count": 3,
   "metadata": {},
   "outputs": [],
   "source": [
    "# Data is not splitted as very less data was available\n",
    "train_path = 'computer_vision'\n",
    "val_path = 'computer_vision'\n",
    "\n",
    "resultPath = 'result_out/'\n",
    "if not os.path.exists(resultPath):\n",
    "    os.makedirs(resultPath)"
   ]
  },
  {
   "cell_type": "code",
   "execution_count": 5,
   "metadata": {},
   "outputs": [
    {
     "name": "stdout",
     "output_type": "stream",
     "text": [
      "WARNING:tensorflow:From /anaconda3/envs/research_dk/lib/python3.7/site-packages/tensorflow/python/ops/resource_variable_ops.py:435: colocate_with (from tensorflow.python.framework.ops) is deprecated and will be removed in a future version.\n",
      "Instructions for updating:\n",
      "Colocations handled automatically by placer.\n"
     ]
    }
   ],
   "source": [
    "model = Sequential()\n",
    "model.add(Conv2D(128, kernel_size=3, activation='relu', input_shape=(224,224,3)))\n",
    "model.add(Conv2D(64, kernel_size=3, activation='relu'))\n",
    "model.add(Conv2D(32, kernel_size=3, activation='relu'))\n",
    "model.add(Conv2D(16, kernel_size=3, activation='relu'))\n",
    "model.add(Conv2D(16, kernel_size=3, activation='relu'))\n",
    "\n",
    "model.add(Flatten())\n",
    "\n",
    "model.add(Dense(64,))\n",
    "model.add(Activation('relu'))\n",
    "model.add(Dense(32,))\n",
    "model.add(Activation('relu'))\n",
    "\n",
    "model.add(Dense(n_classes,))\n",
    "model.add(Activation('softmax'))"
   ]
  },
  {
   "cell_type": "code",
   "execution_count": 6,
   "metadata": {},
   "outputs": [
    {
     "name": "stdout",
     "output_type": "stream",
     "text": [
      "Model: \"sequential_2\"\n",
      "_________________________________________________________________\n",
      "Layer (type)                 Output Shape              Param #   \n",
      "=================================================================\n",
      "conv2d_1 (Conv2D)            (None, 222, 222, 128)     3584      \n",
      "_________________________________________________________________\n",
      "conv2d_2 (Conv2D)            (None, 220, 220, 64)      73792     \n",
      "_________________________________________________________________\n",
      "conv2d_3 (Conv2D)            (None, 218, 218, 32)      18464     \n",
      "_________________________________________________________________\n",
      "conv2d_4 (Conv2D)            (None, 216, 216, 16)      4624      \n",
      "_________________________________________________________________\n",
      "conv2d_5 (Conv2D)            (None, 214, 214, 16)      2320      \n",
      "_________________________________________________________________\n",
      "flatten_1 (Flatten)          (None, 732736)            0         \n",
      "_________________________________________________________________\n",
      "dense_1 (Dense)              (None, 64)                46895168  \n",
      "_________________________________________________________________\n",
      "activation_1 (Activation)    (None, 64)                0         \n",
      "_________________________________________________________________\n",
      "dense_2 (Dense)              (None, 32)                2080      \n",
      "_________________________________________________________________\n",
      "activation_2 (Activation)    (None, 32)                0         \n",
      "_________________________________________________________________\n",
      "dense_3 (Dense)              (None, 4)                 132       \n",
      "_________________________________________________________________\n",
      "activation_3 (Activation)    (None, 4)                 0         \n",
      "=================================================================\n",
      "Total params: 47,000,164\n",
      "Trainable params: 47,000,164\n",
      "Non-trainable params: 0\n",
      "_________________________________________________________________\n",
      "None\n"
     ]
    }
   ],
   "source": [
    "print (model.summary())"
   ]
  },
  {
   "cell_type": "code",
   "execution_count": 7,
   "metadata": {},
   "outputs": [],
   "source": [
    "# Load data\n",
    "train_datagen = ImageDataGenerator(rescale=1./255,\n",
    "    rotation_range=20,\n",
    "    width_shift_range=0.2,\n",
    "    height_shift_range=0.2,\n",
    "    horizontal_flip=True,\n",
    "    vertical_flip = True)\n",
    "\n",
    "test_datagen = ImageDataGenerator(rescale=1./255)\n"
   ]
  },
  {
   "cell_type": "code",
   "execution_count": 8,
   "metadata": {},
   "outputs": [
    {
     "name": "stdout",
     "output_type": "stream",
     "text": [
      "Found 88 images belonging to 4 classes.\n",
      "Found 88 images belonging to 4 classes.\n"
     ]
    }
   ],
   "source": [
    "train_generator = train_datagen.flow_from_directory(\n",
    "        train_path,\n",
    "        target_size=(img_size, img_size),\n",
    "        batch_size=batch_size,\n",
    "        class_mode='categorical')\n",
    "\n",
    "validation_generator = test_datagen.flow_from_directory(\n",
    "        val_path,\n",
    "        target_size=(img_size, img_size),\n",
    "        batch_size=batch_size,\n",
    "        class_mode='categorical')"
   ]
  },
  {
   "cell_type": "code",
   "execution_count": 9,
   "metadata": {},
   "outputs": [
    {
     "name": "stdout",
     "output_type": "stream",
     "text": [
      "{'category 1': 0, 'category 2': 1, 'category 3': 2, 'category 4': 3}\n"
     ]
    }
   ],
   "source": [
    "print (train_generator.class_indices)"
   ]
  },
  {
   "cell_type": "code",
   "execution_count": 10,
   "metadata": {},
   "outputs": [],
   "source": [
    "#Compile model\n",
    "model.compile(loss='categorical_crossentropy',\n",
    "              optimizer=optimizers.Adam(lr=learningRate, decay=1e-2/epochCount),\n",
    "              metrics=['acc'])"
   ]
  },
  {
   "cell_type": "code",
   "execution_count": 11,
   "metadata": {},
   "outputs": [],
   "source": [
    "# Early Checkpoints and Intermediate model saving\n",
    "filePath=resultPath+\"cv-{epoch:02d}-{val_acc:.2f}.hdf5\"\n",
    "checkpoint = ModelCheckpoint(filePath, monitor='val_acc', verbose=1, save_best_only=True, save_weights_only=False, mode='auto', period=1)\n",
    "es = EarlyStopping(monitor='val_acc', mode='max', patience=10)\n",
    "csv_logger = CSVLogger(resultPath+'training_log.csv', append=True, separator=',')\n",
    "callbacks_list = [checkpoint,es,csv_logger]"
   ]
  },
  {
   "cell_type": "code",
   "execution_count": 12,
   "metadata": {},
   "outputs": [
    {
     "name": "stdout",
     "output_type": "stream",
     "text": [
      "WARNING:tensorflow:From /anaconda3/envs/research_dk/lib/python3.7/site-packages/tensorflow/python/ops/math_ops.py:3066: to_int32 (from tensorflow.python.ops.math_ops) is deprecated and will be removed in a future version.\n",
      "Instructions for updating:\n",
      "Use tf.cast instead.\n",
      "Epoch 1/50\n",
      "88/88 [==============================] - 152s 2s/step - loss: 1.4495 - acc: 0.3182 - val_loss: 0.6831 - val_acc: 0.2500\n",
      "\n",
      "Epoch 00001: val_acc improved from -inf to 0.25000, saving model to result_out/cv-01-0.25.hdf5\n",
      "Epoch 2/50\n",
      "88/88 [==============================] - 157s 2s/step - loss: 1.3976 - acc: 0.2614 - val_loss: 1.3105 - val_acc: 0.2500\n",
      "\n",
      "Epoch 00002: val_acc did not improve from 0.25000\n",
      "Epoch 3/50\n",
      "88/88 [==============================] - 134s 2s/step - loss: 1.2896 - acc: 0.2955 - val_loss: 1.4123 - val_acc: 0.2500\n",
      "\n",
      "Epoch 00003: val_acc did not improve from 0.25000\n",
      "Epoch 4/50\n",
      "88/88 [==============================] - 142s 2s/step - loss: 1.2104 - acc: 0.3295 - val_loss: 1.2598 - val_acc: 0.5455\n",
      "\n",
      "Epoch 00004: val_acc improved from 0.25000 to 0.54545, saving model to result_out/cv-04-0.55.hdf5\n",
      "Epoch 5/50\n",
      "88/88 [==============================] - 164s 2s/step - loss: 1.1577 - acc: 0.4432 - val_loss: 1.0667 - val_acc: 0.5682\n",
      "\n",
      "Epoch 00005: val_acc improved from 0.54545 to 0.56818, saving model to result_out/cv-05-0.57.hdf5\n",
      "Epoch 6/50\n",
      "88/88 [==============================] - 157s 2s/step - loss: 0.9722 - acc: 0.5568 - val_loss: 1.0046 - val_acc: 0.4886\n",
      "\n",
      "Epoch 00006: val_acc did not improve from 0.56818\n",
      "Epoch 7/50\n",
      "88/88 [==============================] - 153s 2s/step - loss: 1.0338 - acc: 0.5341 - val_loss: 0.0045 - val_acc: 0.7614\n",
      "\n",
      "Epoch 00007: val_acc improved from 0.56818 to 0.76136, saving model to result_out/cv-07-0.76.hdf5\n",
      "Epoch 8/50\n",
      "88/88 [==============================] - 138s 2s/step - loss: 0.8500 - acc: 0.6364 - val_loss: 0.6683 - val_acc: 0.8636\n",
      "\n",
      "Epoch 00008: val_acc improved from 0.76136 to 0.86364, saving model to result_out/cv-08-0.86.hdf5\n",
      "Epoch 9/50\n",
      "88/88 [==============================] - 99s 1s/step - loss: 0.7651 - acc: 0.7045 - val_loss: 0.2494 - val_acc: 0.8750\n",
      "\n",
      "Epoch 00009: val_acc improved from 0.86364 to 0.87500, saving model to result_out/cv-09-0.88.hdf5\n",
      "Epoch 10/50\n",
      "88/88 [==============================] - 97s 1s/step - loss: 0.7915 - acc: 0.7273 - val_loss: 0.1099 - val_acc: 0.8636\n",
      "\n",
      "Epoch 00010: val_acc did not improve from 0.87500\n",
      "Epoch 11/50\n",
      "88/88 [==============================] - 97s 1s/step - loss: 0.7123 - acc: 0.7273 - val_loss: 0.2333 - val_acc: 0.9091\n",
      "\n",
      "Epoch 00011: val_acc improved from 0.87500 to 0.90909, saving model to result_out/cv-11-0.91.hdf5\n",
      "Epoch 12/50\n",
      "88/88 [==============================] - 95s 1s/step - loss: 0.5384 - acc: 0.7727 - val_loss: 0.4225 - val_acc: 0.8750\n",
      "\n",
      "Epoch 00012: val_acc did not improve from 0.90909\n",
      "Epoch 13/50\n",
      "88/88 [==============================] - 93s 1s/step - loss: 0.7220 - acc: 0.7159 - val_loss: 0.6758 - val_acc: 0.8977\n",
      "\n",
      "Epoch 00013: val_acc did not improve from 0.90909\n",
      "Epoch 14/50\n",
      "88/88 [==============================] - 94s 1s/step - loss: 0.6798 - acc: 0.6705 - val_loss: 0.4532 - val_acc: 0.9091\n",
      "\n",
      "Epoch 00014: val_acc did not improve from 0.90909\n",
      "Epoch 15/50\n",
      "88/88 [==============================] - 95s 1s/step - loss: 0.5230 - acc: 0.7955 - val_loss: 0.4975 - val_acc: 0.9091\n",
      "\n",
      "Epoch 00015: val_acc did not improve from 0.90909\n",
      "Epoch 16/50\n",
      "88/88 [==============================] - 95s 1s/step - loss: 0.4579 - acc: 0.8182 - val_loss: 0.4290 - val_acc: 0.9091\n",
      "\n",
      "Epoch 00016: val_acc did not improve from 0.90909\n",
      "Epoch 17/50\n",
      "88/88 [==============================] - 95s 1s/step - loss: 0.5193 - acc: 0.8068 - val_loss: 0.0411 - val_acc: 0.8977\n",
      "\n",
      "Epoch 00017: val_acc did not improve from 0.90909\n",
      "Epoch 18/50\n",
      "88/88 [==============================] - 95s 1s/step - loss: 0.5895 - acc: 0.7386 - val_loss: 0.2135 - val_acc: 0.9318\n",
      "\n",
      "Epoch 00018: val_acc improved from 0.90909 to 0.93182, saving model to result_out/cv-18-0.93.hdf5\n",
      "Epoch 19/50\n",
      "88/88 [==============================] - 106s 1s/step - loss: 0.5772 - acc: 0.7727 - val_loss: 0.0630 - val_acc: 0.9205\n",
      "\n",
      "Epoch 00019: val_acc did not improve from 0.93182\n",
      "Epoch 20/50\n",
      "88/88 [==============================] - 118s 1s/step - loss: 0.3896 - acc: 0.8295 - val_loss: 0.4433 - val_acc: 0.9091\n",
      "\n",
      "Epoch 00020: val_acc did not improve from 0.93182\n",
      "Epoch 21/50\n",
      "88/88 [==============================] - 118s 1s/step - loss: 0.3731 - acc: 0.8750 - val_loss: 0.1297 - val_acc: 0.9091\n",
      "\n",
      "Epoch 00021: val_acc did not improve from 0.93182\n",
      "Epoch 22/50\n",
      "88/88 [==============================] - 118s 1s/step - loss: 0.3943 - acc: 0.8182 - val_loss: 1.8259e-04 - val_acc: 0.8864\n",
      "\n",
      "Epoch 00022: val_acc did not improve from 0.93182\n",
      "Epoch 23/50\n",
      "88/88 [==============================] - 1213s 14s/step - loss: 0.5502 - acc: 0.8636 - val_loss: 0.0015 - val_acc: 0.9318\n",
      "\n",
      "Epoch 00023: val_acc did not improve from 0.93182\n",
      "Epoch 24/50\n",
      "88/88 [==============================] - 98s 1s/step - loss: 0.2836 - acc: 0.8864 - val_loss: 4.6669e-04 - val_acc: 0.9318\n",
      "\n",
      "Epoch 00024: val_acc did not improve from 0.93182\n",
      "Epoch 25/50\n",
      "88/88 [==============================] - 101s 1s/step - loss: 0.2888 - acc: 0.9091 - val_loss: 0.1458 - val_acc: 0.9205\n",
      "\n",
      "Epoch 00025: val_acc did not improve from 0.93182\n",
      "Epoch 26/50\n",
      "88/88 [==============================] - 92s 1s/step - loss: 0.5285 - acc: 0.8068 - val_loss: 2.2563e-04 - val_acc: 0.9091\n",
      "\n",
      "Epoch 00026: val_acc did not improve from 0.93182\n",
      "Epoch 27/50\n",
      "88/88 [==============================] - 100s 1s/step - loss: 0.3619 - acc: 0.8068 - val_loss: 0.0185 - val_acc: 0.9545\n",
      "\n",
      "Epoch 00027: val_acc improved from 0.93182 to 0.95455, saving model to result_out/cv-27-0.95.hdf5\n",
      "Epoch 28/50\n",
      "88/88 [==============================] - 92s 1s/step - loss: 0.3523 - acc: 0.8750 - val_loss: 0.3444 - val_acc: 0.9432\n",
      "\n",
      "Epoch 00028: val_acc did not improve from 0.95455\n",
      "Epoch 29/50\n",
      "88/88 [==============================] - 93s 1s/step - loss: 0.3438 - acc: 0.8750 - val_loss: 1.1271 - val_acc: 0.9432\n",
      "\n",
      "Epoch 00029: val_acc did not improve from 0.95455\n",
      "Epoch 30/50\n",
      "88/88 [==============================] - 93s 1s/step - loss: 0.4279 - acc: 0.8295 - val_loss: 0.0847 - val_acc: 0.9318\n",
      "\n",
      "Epoch 00030: val_acc did not improve from 0.95455\n",
      "Epoch 31/50\n",
      "88/88 [==============================] - 93s 1s/step - loss: 0.2446 - acc: 0.9432 - val_loss: 0.1172 - val_acc: 0.8977\n",
      "\n",
      "Epoch 00031: val_acc did not improve from 0.95455\n",
      "Epoch 32/50\n",
      "14/88 [===>..........................] - ETA: 1:11 - loss: 0.1477 - acc: 0.9286"
     ]
    },
    {
     "ename": "KeyboardInterrupt",
     "evalue": "",
     "output_type": "error",
     "traceback": [
      "\u001b[0;31m---------------------------------------------------------------------------\u001b[0m",
      "\u001b[0;31mKeyboardInterrupt\u001b[0m                         Traceback (most recent call last)",
      "\u001b[0;32m<ipython-input-12-e7606897ff53>\u001b[0m in \u001b[0;36m<module>\u001b[0;34m\u001b[0m\n\u001b[1;32m      7\u001b[0m       \u001b[0mvalidation_steps\u001b[0m\u001b[0;34m=\u001b[0m\u001b[0mvalidation_generator\u001b[0m\u001b[0;34m.\u001b[0m\u001b[0msamples\u001b[0m\u001b[0;34m/\u001b[0m\u001b[0mvalidation_generator\u001b[0m\u001b[0;34m.\u001b[0m\u001b[0mbatch_size\u001b[0m\u001b[0;34m,\u001b[0m\u001b[0;34m\u001b[0m\u001b[0;34m\u001b[0m\u001b[0m\n\u001b[1;32m      8\u001b[0m       \u001b[0mverbose\u001b[0m\u001b[0;34m=\u001b[0m\u001b[0;36m1\u001b[0m\u001b[0;34m,\u001b[0m\u001b[0;34m\u001b[0m\u001b[0;34m\u001b[0m\u001b[0m\n\u001b[0;32m----> 9\u001b[0;31m       callbacks= callbacks_list)\n\u001b[0m",
      "\u001b[0;32m/anaconda3/envs/research_dk/lib/python3.7/site-packages/keras/legacy/interfaces.py\u001b[0m in \u001b[0;36mwrapper\u001b[0;34m(*args, **kwargs)\u001b[0m\n\u001b[1;32m     89\u001b[0m                 warnings.warn('Update your `' + object_name + '` call to the ' +\n\u001b[1;32m     90\u001b[0m                               'Keras 2 API: ' + signature, stacklevel=2)\n\u001b[0;32m---> 91\u001b[0;31m             \u001b[0;32mreturn\u001b[0m \u001b[0mfunc\u001b[0m\u001b[0;34m(\u001b[0m\u001b[0;34m*\u001b[0m\u001b[0margs\u001b[0m\u001b[0;34m,\u001b[0m \u001b[0;34m**\u001b[0m\u001b[0mkwargs\u001b[0m\u001b[0;34m)\u001b[0m\u001b[0;34m\u001b[0m\u001b[0;34m\u001b[0m\u001b[0m\n\u001b[0m\u001b[1;32m     92\u001b[0m         \u001b[0mwrapper\u001b[0m\u001b[0;34m.\u001b[0m\u001b[0m_original_function\u001b[0m \u001b[0;34m=\u001b[0m \u001b[0mfunc\u001b[0m\u001b[0;34m\u001b[0m\u001b[0;34m\u001b[0m\u001b[0m\n\u001b[1;32m     93\u001b[0m         \u001b[0;32mreturn\u001b[0m \u001b[0mwrapper\u001b[0m\u001b[0;34m\u001b[0m\u001b[0;34m\u001b[0m\u001b[0m\n",
      "\u001b[0;32m/anaconda3/envs/research_dk/lib/python3.7/site-packages/keras/engine/training.py\u001b[0m in \u001b[0;36mfit_generator\u001b[0;34m(self, generator, steps_per_epoch, epochs, verbose, callbacks, validation_data, validation_steps, validation_freq, class_weight, max_queue_size, workers, use_multiprocessing, shuffle, initial_epoch)\u001b[0m\n\u001b[1;32m   1730\u001b[0m             \u001b[0muse_multiprocessing\u001b[0m\u001b[0;34m=\u001b[0m\u001b[0muse_multiprocessing\u001b[0m\u001b[0;34m,\u001b[0m\u001b[0;34m\u001b[0m\u001b[0;34m\u001b[0m\u001b[0m\n\u001b[1;32m   1731\u001b[0m             \u001b[0mshuffle\u001b[0m\u001b[0;34m=\u001b[0m\u001b[0mshuffle\u001b[0m\u001b[0;34m,\u001b[0m\u001b[0;34m\u001b[0m\u001b[0;34m\u001b[0m\u001b[0m\n\u001b[0;32m-> 1732\u001b[0;31m             initial_epoch=initial_epoch)\n\u001b[0m\u001b[1;32m   1733\u001b[0m \u001b[0;34m\u001b[0m\u001b[0m\n\u001b[1;32m   1734\u001b[0m     \u001b[0;34m@\u001b[0m\u001b[0minterfaces\u001b[0m\u001b[0;34m.\u001b[0m\u001b[0mlegacy_generator_methods_support\u001b[0m\u001b[0;34m\u001b[0m\u001b[0;34m\u001b[0m\u001b[0m\n",
      "\u001b[0;32m/anaconda3/envs/research_dk/lib/python3.7/site-packages/keras/engine/training_generator.py\u001b[0m in \u001b[0;36mfit_generator\u001b[0;34m(model, generator, steps_per_epoch, epochs, verbose, callbacks, validation_data, validation_steps, validation_freq, class_weight, max_queue_size, workers, use_multiprocessing, shuffle, initial_epoch)\u001b[0m\n\u001b[1;32m    218\u001b[0m                                             \u001b[0msample_weight\u001b[0m\u001b[0;34m=\u001b[0m\u001b[0msample_weight\u001b[0m\u001b[0;34m,\u001b[0m\u001b[0;34m\u001b[0m\u001b[0;34m\u001b[0m\u001b[0m\n\u001b[1;32m    219\u001b[0m                                             \u001b[0mclass_weight\u001b[0m\u001b[0;34m=\u001b[0m\u001b[0mclass_weight\u001b[0m\u001b[0;34m,\u001b[0m\u001b[0;34m\u001b[0m\u001b[0;34m\u001b[0m\u001b[0m\n\u001b[0;32m--> 220\u001b[0;31m                                             reset_metrics=False)\n\u001b[0m\u001b[1;32m    221\u001b[0m \u001b[0;34m\u001b[0m\u001b[0m\n\u001b[1;32m    222\u001b[0m                 \u001b[0mouts\u001b[0m \u001b[0;34m=\u001b[0m \u001b[0mto_list\u001b[0m\u001b[0;34m(\u001b[0m\u001b[0mouts\u001b[0m\u001b[0;34m)\u001b[0m\u001b[0;34m\u001b[0m\u001b[0;34m\u001b[0m\u001b[0m\n",
      "\u001b[0;32m/anaconda3/envs/research_dk/lib/python3.7/site-packages/keras/engine/training.py\u001b[0m in \u001b[0;36mtrain_on_batch\u001b[0;34m(self, x, y, sample_weight, class_weight, reset_metrics)\u001b[0m\n\u001b[1;32m   1512\u001b[0m             \u001b[0mins\u001b[0m \u001b[0;34m=\u001b[0m \u001b[0mx\u001b[0m \u001b[0;34m+\u001b[0m \u001b[0my\u001b[0m \u001b[0;34m+\u001b[0m \u001b[0msample_weights\u001b[0m\u001b[0;34m\u001b[0m\u001b[0;34m\u001b[0m\u001b[0m\n\u001b[1;32m   1513\u001b[0m         \u001b[0mself\u001b[0m\u001b[0;34m.\u001b[0m\u001b[0m_make_train_function\u001b[0m\u001b[0;34m(\u001b[0m\u001b[0;34m)\u001b[0m\u001b[0;34m\u001b[0m\u001b[0;34m\u001b[0m\u001b[0m\n\u001b[0;32m-> 1514\u001b[0;31m         \u001b[0moutputs\u001b[0m \u001b[0;34m=\u001b[0m \u001b[0mself\u001b[0m\u001b[0;34m.\u001b[0m\u001b[0mtrain_function\u001b[0m\u001b[0;34m(\u001b[0m\u001b[0mins\u001b[0m\u001b[0;34m)\u001b[0m\u001b[0;34m\u001b[0m\u001b[0;34m\u001b[0m\u001b[0m\n\u001b[0m\u001b[1;32m   1515\u001b[0m \u001b[0;34m\u001b[0m\u001b[0m\n\u001b[1;32m   1516\u001b[0m         \u001b[0;32mif\u001b[0m \u001b[0mreset_metrics\u001b[0m\u001b[0;34m:\u001b[0m\u001b[0;34m\u001b[0m\u001b[0;34m\u001b[0m\u001b[0m\n",
      "\u001b[0;32m/anaconda3/envs/research_dk/lib/python3.7/site-packages/tensorflow/python/keras/backend.py\u001b[0m in \u001b[0;36m__call__\u001b[0;34m(self, inputs)\u001b[0m\n\u001b[1;32m   3074\u001b[0m \u001b[0;34m\u001b[0m\u001b[0m\n\u001b[1;32m   3075\u001b[0m     fetched = self._callable_fn(*array_vals,\n\u001b[0;32m-> 3076\u001b[0;31m                                 run_metadata=self.run_metadata)\n\u001b[0m\u001b[1;32m   3077\u001b[0m     \u001b[0mself\u001b[0m\u001b[0;34m.\u001b[0m\u001b[0m_call_fetch_callbacks\u001b[0m\u001b[0;34m(\u001b[0m\u001b[0mfetched\u001b[0m\u001b[0;34m[\u001b[0m\u001b[0;34m-\u001b[0m\u001b[0mlen\u001b[0m\u001b[0;34m(\u001b[0m\u001b[0mself\u001b[0m\u001b[0;34m.\u001b[0m\u001b[0m_fetches\u001b[0m\u001b[0;34m)\u001b[0m\u001b[0;34m:\u001b[0m\u001b[0;34m]\u001b[0m\u001b[0;34m)\u001b[0m\u001b[0;34m\u001b[0m\u001b[0;34m\u001b[0m\u001b[0m\n\u001b[1;32m   3078\u001b[0m     return nest.pack_sequence_as(self._outputs_structure,\n",
      "\u001b[0;32m/anaconda3/envs/research_dk/lib/python3.7/site-packages/tensorflow/python/client/session.py\u001b[0m in \u001b[0;36m__call__\u001b[0;34m(self, *args, **kwargs)\u001b[0m\n\u001b[1;32m   1437\u001b[0m           ret = tf_session.TF_SessionRunCallable(\n\u001b[1;32m   1438\u001b[0m               \u001b[0mself\u001b[0m\u001b[0;34m.\u001b[0m\u001b[0m_session\u001b[0m\u001b[0;34m.\u001b[0m\u001b[0m_session\u001b[0m\u001b[0;34m,\u001b[0m \u001b[0mself\u001b[0m\u001b[0;34m.\u001b[0m\u001b[0m_handle\u001b[0m\u001b[0;34m,\u001b[0m \u001b[0margs\u001b[0m\u001b[0;34m,\u001b[0m \u001b[0mstatus\u001b[0m\u001b[0;34m,\u001b[0m\u001b[0;34m\u001b[0m\u001b[0;34m\u001b[0m\u001b[0m\n\u001b[0;32m-> 1439\u001b[0;31m               run_metadata_ptr)\n\u001b[0m\u001b[1;32m   1440\u001b[0m         \u001b[0;32mif\u001b[0m \u001b[0mrun_metadata\u001b[0m\u001b[0;34m:\u001b[0m\u001b[0;34m\u001b[0m\u001b[0;34m\u001b[0m\u001b[0m\n\u001b[1;32m   1441\u001b[0m           \u001b[0mproto_data\u001b[0m \u001b[0;34m=\u001b[0m \u001b[0mtf_session\u001b[0m\u001b[0;34m.\u001b[0m\u001b[0mTF_GetBuffer\u001b[0m\u001b[0;34m(\u001b[0m\u001b[0mrun_metadata_ptr\u001b[0m\u001b[0;34m)\u001b[0m\u001b[0;34m\u001b[0m\u001b[0;34m\u001b[0m\u001b[0m\n",
      "\u001b[0;31mKeyboardInterrupt\u001b[0m: "
     ]
    }
   ],
   "source": [
    "#Training\n",
    "history = model.fit_generator(\n",
    "      train_generator,\n",
    "      epochs=epochCount,\n",
    "      validation_data=validation_generator,\n",
    "      steps_per_epoch=(train_generator.samples*augmentationScale)//train_generator.batch_size,\n",
    "      validation_steps=validation_generator.samples/validation_generator.batch_size,\n",
    "      verbose=1, \n",
    "      callbacks= callbacks_list)"
   ]
  },
  {
   "cell_type": "code",
   "execution_count": null,
   "metadata": {},
   "outputs": [],
   "source": []
  }
 ],
 "metadata": {
  "kernelspec": {
   "display_name": "Python 3",
   "language": "python",
   "name": "python3"
  },
  "language_info": {
   "codemirror_mode": {
    "name": "ipython",
    "version": 3
   },
   "file_extension": ".py",
   "mimetype": "text/x-python",
   "name": "python",
   "nbconvert_exporter": "python",
   "pygments_lexer": "ipython3",
   "version": "3.7.3"
  }
 },
 "nbformat": 4,
 "nbformat_minor": 2
}
